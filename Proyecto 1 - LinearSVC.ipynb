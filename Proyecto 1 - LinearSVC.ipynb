{
  "cells":[
    {
      "cell_type":"markdown",
      "source":[
        "# Proyecto 1\n",
        "\n",
        "Juan Camilo Sánchez – 201519337\n",
        "\n",
        "Zharet Bautista Montes – 201812763\n",
        "\n",
        "Leonel Andrés Polanía Arias - 201720141"
      ],
      "attachments":{
        
      },
      "metadata":{
        
      }
    },
    {
      "cell_type":"markdown",
      "source":[
        "## 1. Importación de librerias"
      ],
      "attachments":{
        
      },
      "metadata":{
        
      }
    },
    {
      "cell_type":"code",
      "source":[
        "import numpy as np\n",
        "import pandas as pd\n",
        "import re\n",
        "import joblib\n",
        "\n",
        "import contractions\n",
        "import nltk\n",
        "nltk.download(\"stopwords\")\n",
        "from nltk.corpus import stopwords\n",
        "\n",
        "from sklearn.model_selection import train_test_split\n",
        "\n",
        "from sklearn.feature_extraction.text import CountVectorizer\n",
        "from sklearn.feature_extraction.text import TfidfTransformer\n",
        "\n",
        "from sklearn.svm import LinearSVC\n",
        "\n",
        "from sklearn.pipeline import Pipeline\n",
        "\n",
        "# Para búsqueda de hiperparámetros\n",
        "from sklearn.model_selection import GridSearchCV\n",
        "# Para la validación cruzada\n",
        "from sklearn.model_selection import KFold \n",
        "\n",
        "from sklearn.metrics import classification_report, plot_confusion_matrix\n",
        "\n",
        "import matplotlib.pyplot as plt\n",
        "import seaborn as sns"
      ],
      "execution_count":2,
      "outputs":[
        {
          "name":"stderr",
          "text":[
            "[nltk_data] Downloading package stopwords to\n",
            "[nltk_data]     \/home\/datalore\/nltk_data...\n",
            "[nltk_data]   Unzipping corpora\/stopwords.zip.\n"
          ],
          "output_type":"stream"
        }
      ],
      "metadata":{
        
      }
    },
    {
      "cell_type":"markdown",
      "source":[
        "## 2. Carga de datos"
      ],
      "attachments":{
        
      },
      "metadata":{
        
      }
    },
    {
      "cell_type":"code",
      "source":[
        "df = pd.read_csv('Reviews.csv')"
      ],
      "execution_count":2,
      "outputs":[
        
      ],
      "metadata":{
        
      }
    },
    {
      "cell_type":"code",
      "source":[
        "df.info()"
      ],
      "execution_count":3,
      "outputs":[
        {
          "name":"stdout",
          "text":[
            "<class 'pandas.core.frame.DataFrame'>\n",
            "RangeIndex: 568454 entries, 0 to 568453\n",
            "Data columns (total 10 columns):\n",
            " #   Column                  Non-Null Count   Dtype \n",
            "---  ------                  --------------   ----- \n",
            " 0   Id                      568454 non-null  int64 \n",
            " 1   ProductId               568454 non-null  object\n",
            " 2   UserId                  568454 non-null  object\n",
            " 3   ProfileName             568438 non-null  object\n",
            " 4   HelpfulnessNumerator    568454 non-null  int64 \n",
            " 5   HelpfulnessDenominator  568454 non-null  int64 \n",
            " 6   Score                   568454 non-null  int64 \n",
            " 7   Time                    568454 non-null  int64 \n",
            " 8   Summary                 568427 non-null  object\n",
            " 9   Text                    568454 non-null  object\n",
            "dtypes: int64(5), object(5)\n",
            "memory usage: 43.4+ MB\n"
          ],
          "output_type":"stream"
        }
      ],
      "metadata":{
        
      }
    },
    {
      "cell_type":"markdown",
      "source":[
        "## 3. Preparación de Datos\n",
        "\n",
        "- Pasar a minúscula\n",
        "- Expandir las contracciones \n",
        "- Eliminar stopwords\n",
        "- Concatenar"
      ],
      "attachments":{
        
      },
      "metadata":{
        
      }
    },
    {
      "cell_type":"code",
      "source":[
        "STOPWORDS = set(stopwords.words('english'))\n",
        "\n",
        "def clean_text(text):\n",
        "    text = text.lower()\n",
        "    text = contractions.fix(text)\n",
        "    text = ' '.join(word for word in re.split('\\W', text) if word not in STOPWORDS)\n",
        "    return text"
      ],
      "execution_count":4,
      "outputs":[
        
      ],
      "metadata":{
        
      }
    },
    {
      "cell_type":"code",
      "source":[
        "df['Text'] = df['Text'].apply(clean_text)"
      ],
      "execution_count":5,
      "outputs":[
        
      ],
      "metadata":{
        
      }
    },
    {
      "cell_type":"code",
      "source":[
        "df.head(10)"
      ],
      "execution_count":28,
      "outputs":[
        {
          "data":{
            "text\/html":[
              "<div>\n",
              "<style scoped>\n",
              "    .dataframe tbody tr th:only-of-type {\n",
              "        vertical-align: middle;\n",
              "    }\n",
              "\n",
              "    .dataframe tbody tr th {\n",
              "        vertical-align: top;\n",
              "    }\n",
              "\n",
              "    .dataframe thead th {\n",
              "        text-align: right;\n",
              "    }\n",
              "<\/style>\n",
              "<table border=\"1\" class=\"dataframe\">\n",
              "  <thead>\n",
              "    <tr style=\"text-align: right;\">\n",
              "      <th><\/th>\n",
              "      <th>Id<\/th>\n",
              "      <th>ProductId<\/th>\n",
              "      <th>UserId<\/th>\n",
              "      <th>ProfileName<\/th>\n",
              "      <th>HelpfulnessNumerator<\/th>\n",
              "      <th>HelpfulnessDenominator<\/th>\n",
              "      <th>Score<\/th>\n",
              "      <th>Time<\/th>\n",
              "      <th>Summary<\/th>\n",
              "      <th>Text<\/th>\n",
              "    <\/tr>\n",
              "  <\/thead>\n",
              "  <tbody>\n",
              "    <tr>\n",
              "      <th>0<\/th>\n",
              "      <td>1<\/td>\n",
              "      <td>B001E4KFG0<\/td>\n",
              "      <td>A3SGXH7AUHU8GW<\/td>\n",
              "      <td>delmartian<\/td>\n",
              "      <td>1<\/td>\n",
              "      <td>1<\/td>\n",
              "      <td>5<\/td>\n",
              "      <td>1303862400<\/td>\n",
              "      <td>Good Quality Dog Food<\/td>\n",
              "      <td>bought several vitality canned dog food produc...<\/td>\n",
              "    <\/tr>\n",
              "    <tr>\n",
              "      <th>1<\/th>\n",
              "      <td>2<\/td>\n",
              "      <td>B00813GRG4<\/td>\n",
              "      <td>A1D87F6ZCVE5NK<\/td>\n",
              "      <td>dll pa<\/td>\n",
              "      <td>0<\/td>\n",
              "      <td>0<\/td>\n",
              "      <td>1<\/td>\n",
              "      <td>1346976000<\/td>\n",
              "      <td>Not as Advertised<\/td>\n",
              "      <td>product arrived labeled jumbo salted peanuts  ...<\/td>\n",
              "    <\/tr>\n",
              "    <tr>\n",
              "      <th>2<\/th>\n",
              "      <td>3<\/td>\n",
              "      <td>B000LQOCH0<\/td>\n",
              "      <td>ABXLMWJIXXAIN<\/td>\n",
              "      <td>Natalia Corres \"Natalia Corres\"<\/td>\n",
              "      <td>1<\/td>\n",
              "      <td>1<\/td>\n",
              "      <td>4<\/td>\n",
              "      <td>1219017600<\/td>\n",
              "      <td>\"Delight\" says it all<\/td>\n",
              "      <td>confection around centuries   light  pillowy c...<\/td>\n",
              "    <\/tr>\n",
              "    <tr>\n",
              "      <th>3<\/th>\n",
              "      <td>4<\/td>\n",
              "      <td>B000UA0QIQ<\/td>\n",
              "      <td>A395BORC6FGVXV<\/td>\n",
              "      <td>Karl<\/td>\n",
              "      <td>3<\/td>\n",
              "      <td>3<\/td>\n",
              "      <td>2<\/td>\n",
              "      <td>1307923200<\/td>\n",
              "      <td>Cough Medicine<\/td>\n",
              "      <td>looking secret ingredient robitussin believe f...<\/td>\n",
              "    <\/tr>\n",
              "    <tr>\n",
              "      <th>4<\/th>\n",
              "      <td>5<\/td>\n",
              "      <td>B006K2ZZ7K<\/td>\n",
              "      <td>A1UQRSCLF8GW1T<\/td>\n",
              "      <td>Michael D. Bigham \"M. Wassir\"<\/td>\n",
              "      <td>0<\/td>\n",
              "      <td>0<\/td>\n",
              "      <td>5<\/td>\n",
              "      <td>1350777600<\/td>\n",
              "      <td>Great taffy<\/td>\n",
              "      <td>great taffy great price   wide assortment yumm...<\/td>\n",
              "    <\/tr>\n",
              "    <tr>\n",
              "      <th>5<\/th>\n",
              "      <td>6<\/td>\n",
              "      <td>B006K2ZZ7K<\/td>\n",
              "      <td>ADT0SRK1MGOEU<\/td>\n",
              "      <td>Twoapennything<\/td>\n",
              "      <td>0<\/td>\n",
              "      <td>0<\/td>\n",
              "      <td>4<\/td>\n",
              "      <td>1342051200<\/td>\n",
              "      <td>Nice Taffy<\/td>\n",
              "      <td>got wild hair taffy ordered five pound bag  ta...<\/td>\n",
              "    <\/tr>\n",
              "    <tr>\n",
              "      <th>6<\/th>\n",
              "      <td>7<\/td>\n",
              "      <td>B006K2ZZ7K<\/td>\n",
              "      <td>A1SP2KVKFXXRU1<\/td>\n",
              "      <td>David C. Sullivan<\/td>\n",
              "      <td>0<\/td>\n",
              "      <td>0<\/td>\n",
              "      <td>5<\/td>\n",
              "      <td>1340150400<\/td>\n",
              "      <td>Great!  Just as good as the expensive brands!<\/td>\n",
              "      <td>saltwater taffy great flavors soft chewy   can...<\/td>\n",
              "    <\/tr>\n",
              "    <tr>\n",
              "      <th>7<\/th>\n",
              "      <td>8<\/td>\n",
              "      <td>B006K2ZZ7K<\/td>\n",
              "      <td>A3JRGQVEQN31IQ<\/td>\n",
              "      <td>Pamela G. Williams<\/td>\n",
              "      <td>0<\/td>\n",
              "      <td>0<\/td>\n",
              "      <td>5<\/td>\n",
              "      <td>1336003200<\/td>\n",
              "      <td>Wonderful, tasty taffy<\/td>\n",
              "      <td>taffy good   soft chewy   flavors amazing   wo...<\/td>\n",
              "    <\/tr>\n",
              "    <tr>\n",
              "      <th>8<\/th>\n",
              "      <td>9<\/td>\n",
              "      <td>B000E7L2R4<\/td>\n",
              "      <td>A1MZYO9TZK0BBI<\/td>\n",
              "      <td>R. James<\/td>\n",
              "      <td>1<\/td>\n",
              "      <td>1<\/td>\n",
              "      <td>5<\/td>\n",
              "      <td>1322006400<\/td>\n",
              "      <td>Yay Barley<\/td>\n",
              "      <td>right I mostly sprouting cats eat grass  love ...<\/td>\n",
              "    <\/tr>\n",
              "    <tr>\n",
              "      <th>9<\/th>\n",
              "      <td>10<\/td>\n",
              "      <td>B00171APVA<\/td>\n",
              "      <td>A21BT40VZCCYT4<\/td>\n",
              "      <td>Carol A. Reed<\/td>\n",
              "      <td>0<\/td>\n",
              "      <td>0<\/td>\n",
              "      <td>5<\/td>\n",
              "      <td>1351209600<\/td>\n",
              "      <td>Healthy Dog Food<\/td>\n",
              "      <td>healthy dog food  good digestion  also good sm...<\/td>\n",
              "    <\/tr>\n",
              "  <\/tbody>\n",
              "<\/table>\n",
              "<\/div>"
            ]
          },
          "metadata":{
            
          },
          "output_type":"display_data"
        }
      ],
      "metadata":{
        
      }
    },
    {
      "cell_type":"markdown",
      "source":[
        "\n",
        "Se utiliza la columna Text como varialbe predictora y el score como variable objetivo. \n",
        "Se separa entre entrenamiento y evaluación tomando 20% de los datos para evaluación."
      ],
      "attachments":{
        
      },
      "metadata":{
        
      }
    },
    {
      "cell_type":"code",
      "source":[
        "X = df['Text']\n",
        "y = df['Score']\n",
        "X_train, X_test, y_train, y_test = train_test_split(X, y, test_size=0.2, random_state = 42)"
      ],
      "execution_count":6,
      "outputs":[
        
      ],
      "metadata":{
        
      }
    },
    {
      "cell_type":"code",
      "source":[
        "X_train.shape"
      ],
      "execution_count":7,
      "outputs":[
        {
          "data":{
            "text\/plain":[
              "(454763,)"
            ]
          },
          "metadata":{
            
          },
          "output_type":"display_data"
        }
      ],
      "metadata":{
        
      }
    },
    {
      "cell_type":"markdown",
      "source":[
        "## 4. Construcción del Modelo - Linear Support Vector Machine"
      ],
      "attachments":{
        
      },
      "metadata":{
        
      }
    },
    {
      "cell_type":"markdown",
      "source":[
        "El modelo consiste en tres elementos:\n",
        "\n",
        "- Contador de frecuencias\n",
        "- Transformador de frecuencia inversas\n",
        "- Support Vector Machine de Kernel lineal "
      ],
      "attachments":{
        
      },
      "metadata":{
        
      }
    },
    {
      "cell_type":"code",
      "source":[
        "vect = CountVectorizer()\n",
        "tfidf = TfidfTransformer()\n",
        "svm = LinearSVC()\n",
        "pipeline = Pipeline([('vect', vect),\n",
        "               ('tfidf', tfidf),\n",
        "               ('svm', svm),\n",
        "              ],\n",
        "            verbose = True)"
      ],
      "execution_count":13,
      "outputs":[
        
      ],
      "metadata":{
        
      }
    },
    {
      "cell_type":"markdown",
      "source":[
        "Debido a la gran cantidad de datos se utiliza validación cruzada K-fold de dos particiones, para hallar la constante de regularización adecuada, es decir, la que de mejor f1-score."
      ],
      "attachments":{
        
      },
      "metadata":{
        
      }
    },
    {
      "cell_type":"code",
      "source":[
        "splits = KFold(n_splits=2, shuffle=True, random_state = 0)\n",
        "param_grid = {'svm__C': np.logspace(-3, 3, num = 7)}\n",
        "best_model = GridSearchCV(pipeline, param_grid, cv=splits, scoring = 'f1_weighted', n_jobs=-1)\n",
        "best_model.fit(X_train, y_train)"
      ],
      "execution_count":16,
      "outputs":[
        {
          "name":"stdout",
          "text":[
            "[Pipeline] .............. (step 1 of 3) Processing vect, total=  25.4s\n",
            "[Pipeline] ............. (step 2 of 3) Processing tfidf, total=   5.0s\n",
            "[Pipeline] ............... (step 3 of 3) Processing svm, total=11.6min\n"
          ],
          "output_type":"stream"
        },
        {
          "data":{
            "text\/plain":[
              "GridSearchCV(cv=KFold(n_splits=2, random_state=0, shuffle=True),\n",
              "             estimator=Pipeline(steps=[('vect', CountVectorizer()),\n",
              "                                       ('tfidf', TfidfTransformer()),\n",
              "                                       ('svm', LinearSVC())],\n",
              "                                verbose=True),\n",
              "             n_jobs=-1,\n",
              "             param_grid={'svm__C': array([1.e-03, 1.e-02, 1.e-01, 1.e+00, 1.e+01, 1.e+02, 1.e+03])},\n",
              "             scoring='f1_weighted')"
            ]
          },
          "metadata":{
            
          },
          "output_type":"display_data"
        }
      ],
      "metadata":{
        
      }
    },
    {
      "cell_type":"markdown",
      "source":[
        "El mejor modelo tiene como constante de regularización C = 10."
      ],
      "attachments":{
        
      },
      "metadata":{
        
      }
    },
    {
      "cell_type":"code",
      "source":[
        "best_model.best_params_"
      ],
      "execution_count":17,
      "outputs":[
        {
          "data":{
            "text\/plain":[
              "{'svm__C': 10.0}"
            ]
          },
          "metadata":{
            
          },
          "output_type":"display_data"
        }
      ],
      "metadata":{
        
      }
    },
    {
      "cell_type":"code",
      "source":[
        "joblib.dump(best_model, 'lsvc.joblib')"
      ],
      "execution_count":26,
      "outputs":[
        {
          "data":{
            "text\/plain":[
              "['lsvc.joblib']"
            ]
          },
          "metadata":{
            
          },
          "output_type":"display_data"
        }
      ],
      "metadata":{
        
      }
    },
    {
      "cell_type":"code",
      "source":[
        "y_pred = best_model.predict(X_train)\n",
        "print(classification_report(y_train, y_pred, target_names=['1','2','3','4', '5']))"
      ],
      "execution_count":18,
      "outputs":[
        {
          "name":"stdout",
          "text":[
            "              precision    recall  f1-score   support\n",
            "\n",
            "           1       0.85      0.86      0.85     41942\n",
            "           2       0.84      0.62      0.71     23914\n",
            "           3       0.79      0.61      0.69     34155\n",
            "           4       0.78      0.51      0.62     64532\n",
            "           5       0.87      0.97      0.92    290220\n",
            "\n",
            "    accuracy                           0.85    454763\n",
            "   macro avg       0.82      0.71      0.76    454763\n",
            "weighted avg       0.84      0.85      0.84    454763\n",
            "\n"
          ],
          "output_type":"stream"
        }
      ],
      "metadata":{
        
      }
    },
    {
      "cell_type":"code",
      "source":[
        "plot_confusion_matrix(best_model, X_train, y_train, normalize='true')"
      ],
      "execution_count":21,
      "outputs":[
        {
          "data":{
            "text\/plain":[
              "<sklearn.metrics._plot.confusion_matrix.ConfusionMatrixDisplay at 0x7f56693f61f0>"
            ],
            "image\/png":"[encoded data removed]"
          },
          "metadata":{
            "image\/png":{
              
            }
          },
          "output_type":"display_data"
        }
      ],
      "metadata":{
        
      }
    },
    {
      "cell_type":"code",
      "source":[
        "best_model = joblib.load('lsvc.joblib')\n",
        "best_model.cv_results_"
      ],
      "execution_count":12,
      "outputs":[
        {
          "data":{
            "text\/plain":[
              "{'mean_fit_time': array([  18.03067923,   17.9803195 ,   18.13661706,   32.11136293,\n",
              "         406.08052754, 1212.26751173, 1443.03402495]),\n",
              " 'std_fit_time': array([ 0.16869831,  0.04827976,  0.10443747,  0.13675904,  3.89250994,\n",
              "         8.56689322, 28.00241494]),\n",
              " 'mean_score_time': array([10.48838139, 10.61468172, 10.73501039, 10.79816484, 10.75639153,\n",
              "        36.04274201, 10.74499357]),\n",
              " 'std_score_time': array([ 0.14424086,  0.10632682,  0.06002283,  0.10210919,  0.08946133,\n",
              "        24.66689301,  0.1718632 ]),\n",
              " 'param_svm__C': masked_array(data=[0.001, 0.01, 0.1, 1.0, 10.0, 100.0, 1000.0],\n",
              "              mask=[False, False, False, False, False, False, False],\n",
              "        fill_value='?',\n",
              "             dtype=object),\n",
              " 'params': [{'svm__C': 0.001},\n",
              "  {'svm__C': 0.01},\n",
              "  {'svm__C': 0.1},\n",
              "  {'svm__C': 1.0},\n",
              "  {'svm__C': 10.0},\n",
              "  {'svm__C': 100.0},\n",
              "  {'svm__C': 1000.0}],\n",
              " 'split0_test_score': array([0.50160112, 0.61680078, 0.684481  , 0.72041721, 0.72500141,\n",
              "        0.7136647 , 0.69922938]),\n",
              " 'split1_test_score': array([0.50408793, 0.62058551, 0.68664612, 0.72412183, 0.72725362,\n",
              "        0.71698897, 0.70015441]),\n",
              " 'mean_test_score': array([0.50284453, 0.61869314, 0.68556356, 0.72226952, 0.72612751,\n",
              "        0.71532684, 0.6996919 ]),\n",
              " 'std_test_score': array([0.00124341, 0.00189236, 0.00108256, 0.00185231, 0.00112611,\n",
              "        0.00166214, 0.00046252]),\n",
              " 'rank_test_score': array([7, 6, 5, 2, 1, 3, 4], dtype=int32)}"
            ]
          },
          "metadata":{
            
          },
          "output_type":"display_data"
        }
      ],
      "metadata":{
        
      }
    },
    {
      "cell_type":"markdown",
      "source":[
        "A continuación se muestra en más detalle el efecto de C en el desempeño del modelo."
      ],
      "attachments":{
        
      },
      "metadata":{
        
      }
    },
    {
      "cell_type":"code",
      "source":[
        "plt.plot(np.logspace(-3, 3, num = 7), best_model.cv_results_['mean_test_score'])\n",
        "plt.xlabel('Regularization constant C')\n",
        "plt.ylabel('f1-score-weighted')\n",
        "plt.xscale('log')\n",
        "plt.show()"
      ],
      "execution_count":13,
      "outputs":[
        {
          "data":{
            "image\/png":"[encoded data removed]"
          },
          "metadata":{
            "image\/png":{
              
            }
          },
          "output_type":"display_data"
        }
      ],
      "metadata":{
        
      }
    },
    {
      "cell_type":"markdown",
      "source":[
        "## 5. Evaluación del modelo"
      ],
      "attachments":{
        
      },
      "metadata":{
        
      }
    },
    {
      "cell_type":"markdown",
      "source":[
        "Ahora se evalua definitivamente el desempeño del modelo en el conjunto de evaluación:"
      ],
      "attachments":{
        
      },
      "metadata":{
        
      }
    },
    {
      "cell_type":"code",
      "source":[
        "y_pred = best_model.predict(X_test)\n",
        "print(classification_report(y_test, y_pred, target_names=['1','2','3','4', '5']))"
      ],
      "execution_count":22,
      "outputs":[
        {
          "name":"stdout",
          "text":[
            "              precision    recall  f1-score   support\n",
            "\n",
            "           1       0.69      0.70      0.70     10326\n",
            "           2       0.54      0.36      0.44      5855\n",
            "           3       0.53      0.38      0.44      8485\n",
            "           4       0.55      0.36      0.43     16123\n",
            "           5       0.82      0.93      0.88     72902\n",
            "\n",
            "    accuracy                           0.76    113691\n",
            "   macro avg       0.63      0.55      0.58    113691\n",
            "weighted avg       0.74      0.76      0.74    113691\n",
            "\n"
          ],
          "output_type":"stream"
        }
      ],
      "metadata":{
        
      }
    },
    {
      "cell_type":"code",
      "source":[
        "plot_confusion_matrix(best_model, X_test, y_test, normalize='true')"
      ],
      "execution_count":23,
      "outputs":[
        {
          "data":{
            "text\/plain":[
              "<sklearn.metrics._plot.confusion_matrix.ConfusionMatrixDisplay at 0x7f569b42d280>"
            ],
            "image\/png":"[encoded data removed]"
          },
          "metadata":{
            "image\/png":{
              
            }
          },
          "output_type":"display_data"
        }
      ],
      "metadata":{
        
      }
    }
  ],
  "metadata":{
    
  },
  "nbformat":4,
  "nbformat_minor":0
}