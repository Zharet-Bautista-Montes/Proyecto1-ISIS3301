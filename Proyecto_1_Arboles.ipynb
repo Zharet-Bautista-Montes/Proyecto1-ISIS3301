{
  "nbformat": 4,
  "nbformat_minor": 0,
  "metadata": {
    "colab": {
      "name": "Proyecto_1_Arboles.ipynb",
      "provenance": []
    },
    "kernelspec": {
      "display_name": "Python 3",
      "language": "python",
      "name": "python3"
    },
    "language_info": {
      "codemirror_mode": {
        "name": "ipython",
        "version": 3
      },
      "file_extension": ".py",
      "mimetype": "text/x-python",
      "name": "python",
      "nbconvert_exporter": "python",
      "pygments_lexer": "ipython3",
      "version": "3.8.8"
    }
  },
  "cells": [
    {
      "cell_type": "markdown",
      "metadata": {
        "id": "2z0Ix4DYmVZ3"
      },
      "source": [
        "# Proyecto 1\n",
        "\n",
        "Juan Camilo Sánchez – 201519337\n",
        "\n",
        "Zharet Bautista Montes – 201812763\n",
        "\n",
        "Leonel Andrés Polanía Arias - 201720141"
      ]
    },
    {
      "cell_type": "markdown",
      "metadata": {
        "id": "Lg4zvGGrmVZ8"
      },
      "source": [
        "## 1. Importación de librerias"
      ]
    },
    {
      "cell_type": "code",
      "metadata": {
        "id": "AIdqKb1k4EMG",
        "colab": {
          "base_uri": "https://localhost:8080/"
        },
        "outputId": "f750b118-5848-4022-aba5-53a19995e53a"
      },
      "source": [
        "from google.colab import drive\n",
        "drive.mount('/content/drive')"
      ],
      "execution_count": 2,
      "outputs": [
        {
          "output_type": "stream",
          "name": "stdout",
          "text": [
            "Drive already mounted at /content/drive; to attempt to forcibly remount, call drive.mount(\"/content/drive\", force_remount=True).\n"
          ]
        }
      ]
    },
    {
      "cell_type": "code",
      "metadata": {
        "colab": {
          "base_uri": "https://localhost:8080/"
        },
        "id": "IS4wpJ4WmVZ9",
        "outputId": "9c308130-3266-410e-ecd5-232dd6042eb2"
      },
      "source": [
        "import numpy as np\n",
        "import pandas as pd\n",
        "import re\n",
        "\n",
        "#import contractions\n",
        "import nltk\n",
        "nltk.download(\"stopwords\")\n",
        "nltk.download(\"averaged_perceptron_tagger\")\n",
        "nltk.download(\"universal_tagset\")\n",
        "from nltk.corpus import stopwords\n",
        "\n",
        "from sklearn.model_selection import train_test_split\n",
        "\n",
        "from sklearn.feature_extraction.text import CountVectorizer\n",
        "from sklearn.feature_extraction.text import TfidfTransformer\n",
        "# Para crear el arbol de decisión \n",
        "from sklearn.tree import DecisionTreeClassifier \n",
        "# Para evaluar el modelo\n",
        "from sklearn.metrics import confusion_matrix, classification_report, precision_score, recall_score, f1_score, accuracy_score\n",
        "from sklearn.metrics import plot_confusion_matrix\n",
        "# Para búsqueda de hiperparámetros\n",
        "from sklearn.model_selection import GridSearchCV\n",
        "# Para la validación cruzada\n",
        "from sklearn.model_selection import KFold \n",
        "#Librerías para la visualización\n",
        "import matplotlib.pyplot as plt\n"
      ],
      "execution_count": 3,
      "outputs": [
        {
          "output_type": "stream",
          "name": "stdout",
          "text": [
            "[nltk_data] Downloading package stopwords to /root/nltk_data...\n",
            "[nltk_data]   Package stopwords is already up-to-date!\n",
            "[nltk_data] Downloading package averaged_perceptron_tagger to\n",
            "[nltk_data]     /root/nltk_data...\n",
            "[nltk_data]   Package averaged_perceptron_tagger is already up-to-\n",
            "[nltk_data]       date!\n",
            "[nltk_data] Downloading package universal_tagset to /root/nltk_data...\n",
            "[nltk_data]   Package universal_tagset is already up-to-date!\n"
          ]
        }
      ]
    },
    {
      "cell_type": "markdown",
      "metadata": {
        "id": "GVF5mBi8mVaA"
      },
      "source": [
        "## 2. Carga de datos"
      ]
    },
    {
      "cell_type": "code",
      "metadata": {
        "id": "TazCfLBOmVaA"
      },
      "source": [
        "df = pd.read_csv('drive/MyDrive/Reviews.csv')"
      ],
      "execution_count": 4,
      "outputs": []
    },
    {
      "cell_type": "code",
      "metadata": {
        "colab": {
          "base_uri": "https://localhost:8080/"
        },
        "id": "k8HrTMZXmVaB",
        "outputId": "24a2d730-2e2a-4153-ea84-4685114b58f2"
      },
      "source": [
        "df.info()"
      ],
      "execution_count": 5,
      "outputs": [
        {
          "output_type": "stream",
          "name": "stdout",
          "text": [
            "<class 'pandas.core.frame.DataFrame'>\n",
            "RangeIndex: 568454 entries, 0 to 568453\n",
            "Data columns (total 10 columns):\n",
            " #   Column                  Non-Null Count   Dtype \n",
            "---  ------                  --------------   ----- \n",
            " 0   Id                      568454 non-null  int64 \n",
            " 1   ProductId               568454 non-null  object\n",
            " 2   UserId                  568454 non-null  object\n",
            " 3   ProfileName             568438 non-null  object\n",
            " 4   HelpfulnessNumerator    568454 non-null  int64 \n",
            " 5   HelpfulnessDenominator  568454 non-null  int64 \n",
            " 6   Score                   568454 non-null  int64 \n",
            " 7   Time                    568454 non-null  int64 \n",
            " 8   Summary                 568427 non-null  object\n",
            " 9   Text                    568454 non-null  object\n",
            "dtypes: int64(5), object(5)\n",
            "memory usage: 43.4+ MB\n"
          ]
        }
      ]
    },
    {
      "cell_type": "markdown",
      "metadata": {
        "id": "1raHy1men24_"
      },
      "source": [
        "## 3. Preparación de Datos\n",
        "\n",
        "- Pasar a minúscula\n",
        "- Expandir las contracciones \n",
        "- Eliminar stopwords\n",
        "- Concatenar"
      ]
    },
    {
      "cell_type": "code",
      "metadata": {
        "id": "JhvAO4N1n25A"
      },
      "source": [
        "STOPWORDS = set(stopwords.words('english'))\n",
        "def lower(text):\n",
        "    return text.lower()"
      ],
      "execution_count": 6,
      "outputs": []
    },
    {
      "cell_type": "code",
      "metadata": {
        "id": "6kQW3m88n25A"
      },
      "source": [
        "df[\"Words\"] = df[\"Text\"] + df[\"Summary\"]\n",
        "df_clean=df.drop(['Id', 'ProductId', 'UserId', 'ProfileName' , 'Time',\"Text\",\"Summary\"], axis=1)\n",
        "df_clean['Words'] = df_clean['Words'].astype(str).apply(lower)"
      ],
      "execution_count": 7,
      "outputs": []
    },
    {
      "cell_type": "code",
      "metadata": {
        "colab": {
          "base_uri": "https://localhost:8080/",
          "height": 359
        },
        "id": "h2-_hfmKsq8S",
        "outputId": "5152bc8f-8d8e-466f-c2b3-a1b4e5d8583e"
      },
      "source": [
        "df_clean.head(10)"
      ],
      "execution_count": 8,
      "outputs": [
        {
          "output_type": "execute_result",
          "data": {
            "text/html": [
              "<div>\n",
              "<style scoped>\n",
              "    .dataframe tbody tr th:only-of-type {\n",
              "        vertical-align: middle;\n",
              "    }\n",
              "\n",
              "    .dataframe tbody tr th {\n",
              "        vertical-align: top;\n",
              "    }\n",
              "\n",
              "    .dataframe thead th {\n",
              "        text-align: right;\n",
              "    }\n",
              "</style>\n",
              "<table border=\"1\" class=\"dataframe\">\n",
              "  <thead>\n",
              "    <tr style=\"text-align: right;\">\n",
              "      <th></th>\n",
              "      <th>HelpfulnessNumerator</th>\n",
              "      <th>HelpfulnessDenominator</th>\n",
              "      <th>Score</th>\n",
              "      <th>Words</th>\n",
              "    </tr>\n",
              "  </thead>\n",
              "  <tbody>\n",
              "    <tr>\n",
              "      <th>0</th>\n",
              "      <td>1</td>\n",
              "      <td>1</td>\n",
              "      <td>5</td>\n",
              "      <td>i have bought several of the vitality canned d...</td>\n",
              "    </tr>\n",
              "    <tr>\n",
              "      <th>1</th>\n",
              "      <td>0</td>\n",
              "      <td>0</td>\n",
              "      <td>1</td>\n",
              "      <td>product arrived labeled as jumbo salted peanut...</td>\n",
              "    </tr>\n",
              "    <tr>\n",
              "      <th>2</th>\n",
              "      <td>1</td>\n",
              "      <td>1</td>\n",
              "      <td>4</td>\n",
              "      <td>this is a confection that has been around a fe...</td>\n",
              "    </tr>\n",
              "    <tr>\n",
              "      <th>3</th>\n",
              "      <td>3</td>\n",
              "      <td>3</td>\n",
              "      <td>2</td>\n",
              "      <td>if you are looking for the secret ingredient i...</td>\n",
              "    </tr>\n",
              "    <tr>\n",
              "      <th>4</th>\n",
              "      <td>0</td>\n",
              "      <td>0</td>\n",
              "      <td>5</td>\n",
              "      <td>great taffy at a great price.  there was a wid...</td>\n",
              "    </tr>\n",
              "    <tr>\n",
              "      <th>5</th>\n",
              "      <td>0</td>\n",
              "      <td>0</td>\n",
              "      <td>4</td>\n",
              "      <td>i got a wild hair for taffy and ordered this f...</td>\n",
              "    </tr>\n",
              "    <tr>\n",
              "      <th>6</th>\n",
              "      <td>0</td>\n",
              "      <td>0</td>\n",
              "      <td>5</td>\n",
              "      <td>this saltwater taffy had great flavors and was...</td>\n",
              "    </tr>\n",
              "    <tr>\n",
              "      <th>7</th>\n",
              "      <td>0</td>\n",
              "      <td>0</td>\n",
              "      <td>5</td>\n",
              "      <td>this taffy is so good.  it is very soft and ch...</td>\n",
              "    </tr>\n",
              "    <tr>\n",
              "      <th>8</th>\n",
              "      <td>1</td>\n",
              "      <td>1</td>\n",
              "      <td>5</td>\n",
              "      <td>right now i'm mostly just sprouting this so my...</td>\n",
              "    </tr>\n",
              "    <tr>\n",
              "      <th>9</th>\n",
              "      <td>0</td>\n",
              "      <td>0</td>\n",
              "      <td>5</td>\n",
              "      <td>this is a very healthy dog food. good for thei...</td>\n",
              "    </tr>\n",
              "  </tbody>\n",
              "</table>\n",
              "</div>"
            ],
            "text/plain": [
              "   HelpfulnessNumerator  ...                                              Words\n",
              "0                     1  ...  i have bought several of the vitality canned d...\n",
              "1                     0  ...  product arrived labeled as jumbo salted peanut...\n",
              "2                     1  ...  this is a confection that has been around a fe...\n",
              "3                     3  ...  if you are looking for the secret ingredient i...\n",
              "4                     0  ...  great taffy at a great price.  there was a wid...\n",
              "5                     0  ...  i got a wild hair for taffy and ordered this f...\n",
              "6                     0  ...  this saltwater taffy had great flavors and was...\n",
              "7                     0  ...  this taffy is so good.  it is very soft and ch...\n",
              "8                     1  ...  right now i'm mostly just sprouting this so my...\n",
              "9                     0  ...  this is a very healthy dog food. good for thei...\n",
              "\n",
              "[10 rows x 4 columns]"
            ]
          },
          "metadata": {},
          "execution_count": 8
        }
      ]
    },
    {
      "cell_type": "code",
      "metadata": {
        "colab": {
          "base_uri": "https://localhost:8080/"
        },
        "id": "Sz8Aaaq_ov63",
        "outputId": "5aedc19c-bf4a-4b7b-8644-9fd74100c7e4"
      },
      "source": [
        "initialVectorizer = CountVectorizer()\n",
        "BoW=initialVectorizer.fit_transform(df_clean[\"Words\"])\n",
        "allwords = initialVectorizer.get_feature_names()\n",
        "print(len(initialVectorizer.get_feature_names()))\n",
        "tags = nltk.pos_tag(allwords, tagset='universal')\n",
        "noValid = [word[0] for word in tags if word[1] not in [\"VERB\",\"ADJ\"]]\n",
        "delete = set.union(set(noValid), STOPWORDS)\n",
        "print(str(len(noValid)))"
      ],
      "execution_count": 9,
      "outputs": [
        {
          "output_type": "stream",
          "name": "stdout",
          "text": [
            "142082\n",
            "116149\n"
          ]
        }
      ]
    },
    {
      "cell_type": "code",
      "metadata": {
        "colab": {
          "base_uri": "https://localhost:8080/"
        },
        "id": "eWDpIhP7uE2B",
        "outputId": "71b54dbf-50c7-4d81-a121-54119e20ff03"
      },
      "source": [
        "BoW=initialVectorizer.fit_transform(df_clean[\"Words\"])\n",
        "BoW.shape"
      ],
      "execution_count": 10,
      "outputs": [
        {
          "output_type": "execute_result",
          "data": {
            "text/plain": [
              "(568454, 142082)"
            ]
          },
          "metadata": {},
          "execution_count": 10
        }
      ]
    },
    {
      "cell_type": "code",
      "metadata": {
        "id": "xc7uQMFUukal"
      },
      "source": [
        "def dropcols_coo(M, idx_to_drop):\n",
        "    idx_to_drop = np.unique(idx_to_drop)\n",
        "    C = M.tocoo()\n",
        "    keep = ~np.in1d(C.col, idx_to_drop)\n",
        "    C.data, C.row, C.col = C.data[keep], C.row[keep], C.col[keep]\n",
        "    C.col -= idx_to_drop.searchsorted(C.col)    # decrement column indices\n",
        "    C._shape = (C.shape[0], C.shape[1] - len(idx_to_drop))\n",
        "    return C.tocsr()"
      ],
      "execution_count": 11,
      "outputs": []
    },
    {
      "cell_type": "code",
      "metadata": {
        "colab": {
          "base_uri": "https://localhost:8080/"
        },
        "id": "uAbtl2kpHeaz",
        "outputId": "8796d5f5-cdfc-4e92-cb65-ec4c86d2fefe"
      },
      "source": [
        "sum_words = BoW.sum(axis=0) \n",
        "words_freq = [word for idx,word in enumerate(initialVectorizer.get_feature_names()) if sum_words[0,idx]<500]\n",
        "print(len(words_freq))\n",
        "delete = np.unique(set.union(delete, words_freq))"
      ],
      "execution_count": 12,
      "outputs": [
        {
          "output_type": "stream",
          "name": "stdout",
          "text": [
            "137582\n"
          ]
        }
      ]
    },
    {
      "cell_type": "code",
      "metadata": {
        "colab": {
          "base_uri": "https://localhost:8080/"
        },
        "id": "GWgmtaW887ap",
        "outputId": "9f08879f-2333-48a2-9188-f082a56672bd"
      },
      "source": [
        "indexs=[]\n",
        "BoWords=[]\n",
        "for i,word in enumerate(initialVectorizer.get_feature_names()):\n",
        "    if word in delete:\n",
        "      indexs.append(i)\n",
        "    else:\n",
        "      BoWords.append(word)\n",
        "newBoW= dropcols_coo(BoW,indexs)\n",
        "print(newBoW.shape)"
      ],
      "execution_count": 13,
      "outputs": [
        {
          "output_type": "stream",
          "name": "stdout",
          "text": [
            "(568454, 142082)\n"
          ]
        }
      ]
    },
    {
      "cell_type": "code",
      "metadata": {
        "colab": {
          "base_uri": "https://localhost:8080/"
        },
        "id": "SuYs_g-d9a2F",
        "outputId": "acab1984-0d92-4cfd-a0f7-23c2a9e7f013"
      },
      "source": [
        "newBoW.shape"
      ],
      "execution_count": 14,
      "outputs": [
        {
          "output_type": "execute_result",
          "data": {
            "text/plain": [
              "(568454, 142082)"
            ]
          },
          "metadata": {},
          "execution_count": 14
        }
      ]
    },
    {
      "cell_type": "markdown",
      "metadata": {
        "id": "1CNDtcQkTOeq"
      },
      "source": [
        "##4.Construccion del Modelo"
      ]
    },
    {
      "cell_type": "code",
      "metadata": {
        "id": "OW9qks2hEIFV"
      },
      "source": [
        "# Se selecciona la variable objetivo, en este caso \"Score\".\n",
        "Y = df_clean.drop(['HelpfulnessNumerator','HelpfulnessDenominator','Words'], axis=1)\n",
        "X = newBoW"
      ],
      "execution_count": 15,
      "outputs": []
    },
    {
      "cell_type": "code",
      "metadata": {
        "id": "lgerPZo8EIFV"
      },
      "source": [
        "# Dividir los datos en entrenamiento y test\n",
        "X_train, X_test, Y_train, Y_test = train_test_split(X, Y, test_size=0.2, random_state=0)"
      ],
      "execution_count": 16,
      "outputs": []
    },
    {
      "cell_type": "code",
      "metadata": {
        "id": "6dY1krucEIFa"
      },
      "source": [
        "# se fijan 3 particiones.\n",
        "particiones = KFold(n_splits=3, shuffle=True, random_state = 0)\n",
        "param_grid = {'criterion':['gini','entropy'],'max_depth':[3,4,6,8,10,15,20],'min_samples_split':[2,3,4,5]}\n",
        "# se crea el modelo vacio\n",
        "arbol = DecisionTreeClassifier(random_state=0)\n",
        "bestModel = GridSearchCV(arbol, param_grid, cv=particiones)"
      ],
      "execution_count": 42,
      "outputs": []
    },
    {
      "cell_type": "code",
      "metadata": {
        "id": "ZCXgpVEwEIFa"
      },
      "source": [
        "# Se empieza el ajuste del modelo\n",
        "bestModel.fit(X_train, Y_train)"
      ],
      "execution_count": null,
      "outputs": []
    },
    {
      "cell_type": "code",
      "metadata": {
        "id": "0X3S0oAdEIFa",
        "colab": {
          "base_uri": "https://localhost:8080/"
        },
        "outputId": "494d3c7e-5d7f-4307-92e6-8257a30eadc5"
      },
      "source": [
        "# los parametros serian\n",
        "bestModel.best_params_"
      ],
      "execution_count": 44,
      "outputs": [
        {
          "output_type": "execute_result",
          "data": {
            "text/plain": [
              "{'criterion': 'gini', 'max_depth': 20, 'min_samples_split': 4}"
            ]
          },
          "metadata": {},
          "execution_count": 44
        }
      ]
    },
    {
      "cell_type": "code",
      "metadata": {
        "id": "2jPo_MXGEIFb",
        "colab": {
          "base_uri": "https://localhost:8080/"
        },
        "outputId": "cf8b3666-9a0e-4050-94f2-bc1672c673bc"
      },
      "source": [
        "# se saca el ultimo modelo\n",
        "arbol_def = bestModel.best_estimator_\n",
        "# se pasa el grupo de prueba.\n",
        "y_pred_train = arbol_def.predict(X_train)\n",
        "y_pred_test = arbol_def.predict(X_test)\n",
        "print('Exactitud entrenamiento: %.2f' % accuracy_score(Y_train, y_pred_train))\n",
        "print('Exactitud test: %.2f' % accuracy_score(Y_test, y_pred_test))"
      ],
      "execution_count": 45,
      "outputs": [
        {
          "output_type": "stream",
          "name": "stdout",
          "text": [
            "Exactitud entrenamiento: 0.73\n",
            "Exactitud test: 0.70\n"
          ]
        }
      ]
    },
    {
      "cell_type": "code",
      "metadata": {
        "id": "V0nss-HzEIFV",
        "colab": {
          "base_uri": "https://localhost:8080/"
        },
        "outputId": "dc9eac78-d828-4393-abaf-915b5e3b6878"
      },
      "source": [
        "# Se genera la matriz de confusión\n",
        "confusion_matrix(Y_test, y_pred_test)"
      ],
      "execution_count": 48,
      "outputs": [
        {
          "output_type": "execute_result",
          "data": {
            "text/plain": [
              "array([[ 5270,   111,   249,   469,  4168],\n",
              "       [ 1822,   616,   393,   549,  2805],\n",
              "       [ 1463,    85,  1803,  1091,  4008],\n",
              "       [ 1023,    92,   440,  3936, 10738],\n",
              "       [ 2388,   157,   552,  1818, 67645]])"
            ]
          },
          "metadata": {},
          "execution_count": 48
        }
      ]
    },
    {
      "cell_type": "code",
      "metadata": {
        "id": "yOjAmEnAEIFW",
        "colab": {
          "base_uri": "https://localhost:8080/",
          "height": 279
        },
        "outputId": "12b16611-baad-411d-fdfc-2738884892c5"
      },
      "source": [
        "# Se puede visualizar la matriz de confusión\n",
        "plot_confusion_matrix(arbol_def, X_test, Y_test, normalize='true')  \n",
        "plt.show()  "
      ],
      "execution_count": 49,
      "outputs": [
        {
          "output_type": "display_data",
          "data": {
            "image/png": "[encoded data removed]",
            "text/plain": [
              "<Figure size 432x288 with 2 Axes>"
            ]
          },
          "metadata": {
            "needs_background": "light"
          }
        }
      ]
    },
    {
      "cell_type": "code",
      "metadata": {
        "colab": {
          "base_uri": "https://localhost:8080/"
        },
        "id": "lh6UnvKQ90nb",
        "outputId": "d2e78b62-04fa-449e-f17c-05ff5db01558"
      },
      "source": [
        "print(classification_report(Y_test, y_pred_test, target_names=['1','2','3','4', '5']))"
      ],
      "execution_count": 50,
      "outputs": [
        {
          "output_type": "stream",
          "name": "stdout",
          "text": [
            "              precision    recall  f1-score   support\n",
            "\n",
            "           1       0.44      0.51      0.47     10267\n",
            "           2       0.58      0.10      0.17      6185\n",
            "           3       0.52      0.21      0.30      8450\n",
            "           4       0.50      0.24      0.33     16229\n",
            "           5       0.76      0.93      0.84     72560\n",
            "\n",
            "    accuracy                           0.70    113691\n",
            "   macro avg       0.56      0.40      0.42    113691\n",
            "weighted avg       0.66      0.70      0.65    113691\n",
            "\n"
          ]
        }
      ]
    }
  ]
}